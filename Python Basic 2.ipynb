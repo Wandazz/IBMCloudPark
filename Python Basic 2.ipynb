{
    "cells": [
        {
            "cell_type": "markdown",
            "metadata": {
                "collapsed": true
            },
            "source": "# Python Basic 2"
        },
        {
            "cell_type": "code",
            "execution_count": 1,
            "metadata": {},
            "outputs": [
                {
                    "data": {
                        "text/plain": "True"
                    },
                    "execution_count": 1,
                    "metadata": {},
                    "output_type": "execute_result"
                }
            ],
            "source": "i=6\ni>5"
        },
        {
            "cell_type": "code",
            "execution_count": 2,
            "metadata": {},
            "outputs": [
                {
                    "data": {
                        "text/plain": "False"
                    },
                    "execution_count": 2,
                    "metadata": {},
                    "output_type": "execute_result"
                }
            ],
            "source": "\"AC/DC\"==\"Hello World\""
        },
        {
            "cell_type": "code",
            "execution_count": 3,
            "metadata": {},
            "outputs": [
                {
                    "data": {
                        "text/plain": "True"
                    },
                    "execution_count": 3,
                    "metadata": {},
                    "output_type": "execute_result"
                }
            ],
            "source": "\"ACDC\"=='ACDC'"
        },
        {
            "cell_type": "code",
            "execution_count": 4,
            "metadata": {},
            "outputs": [
                {
                    "data": {
                        "text/plain": "4"
                    },
                    "execution_count": 4,
                    "metadata": {},
                    "output_type": "execute_result"
                }
            ],
            "source": "len(\"ACDC\")"
        },
        {
            "cell_type": "code",
            "execution_count": 16,
            "metadata": {},
            "outputs": [
                {
                    "name": "stdout",
                    "output_type": "stream",
                    "text": "Far enough from quallified\nMove on\n"
                }
            ],
            "source": "age = 15\nif (age>18):\n    print(\"You can enter\")\nelif(age==18):\n    print(\"Still quallified\")\nelif(age>16):\n    print(\"Nearly quallified\")\nelif(age>14):\n    print(\"Far enough from quallified\")\nelse :\n    print(\"You are not quallified\")\nprint(\"Move on\")"
        },
        {
            "cell_type": "code",
            "execution_count": 17,
            "metadata": {},
            "outputs": [
                {
                    "data": {
                        "text/plain": "False"
                    },
                    "execution_count": 17,
                    "metadata": {},
                    "output_type": "execute_result"
                }
            ],
            "source": "not(True)"
        },
        {
            "cell_type": "code",
            "execution_count": 18,
            "metadata": {},
            "outputs": [
                {
                    "data": {
                        "text/plain": "True"
                    },
                    "execution_count": 18,
                    "metadata": {},
                    "output_type": "execute_result"
                }
            ],
            "source": "not(age>20)"
        },
        {
            "cell_type": "code",
            "execution_count": 23,
            "metadata": {},
            "outputs": [
                {
                    "name": "stdout",
                    "output_type": "stream",
                    "text": "dsxuser\r\n"
                }
            ],
            "source": "!whoami"
        },
        {
            "cell_type": "code",
            "execution_count": 35,
            "metadata": {},
            "outputs": [
                {
                    "name": "stdout",
                    "output_type": "stream",
                    "text": "60\nMore than 30 or More than 40\n"
                }
            ],
            "source": "age=60\nprint(age)\nif(age==20):\n    print(\"20 years old\")\nelif((age<20) & (age>10)):\n    print(\"Between 10 and 20\")\nelif(age > 30 or age > 40):\n    print(\"More than 30 or More than 40\")\nelse:\n    print(\"Others\")"
        },
        {
            "cell_type": "code",
            "execution_count": 29,
            "metadata": {},
            "outputs": [
                {
                    "data": {
                        "text/plain": "False"
                    },
                    "execution_count": 29,
                    "metadata": {},
                    "output_type": "execute_result"
                }
            ],
            "source": "True & False"
        },
        {
            "cell_type": "code",
            "execution_count": 30,
            "metadata": {},
            "outputs": [
                {
                    "data": {
                        "text/plain": "True"
                    },
                    "execution_count": 30,
                    "metadata": {},
                    "output_type": "execute_result"
                }
            ],
            "source": "False or True"
        },
        {
            "cell_type": "code",
            "execution_count": 45,
            "metadata": {},
            "outputs": [
                {
                    "name": "stdout",
                    "output_type": "stream",
                    "text": "read\nyellow\ngreen\npurple\nblue\n['read', 'yellow', 'green', 'purple', 'blue']\n---------------------------\n['white', 'white', 'white', 'white', 'white']\n"
                }
            ],
            "source": "squares=[\"read\", \"yellow\",\"green\", \"purple\", \"blue\"]\n#for i in range(0,5):\n#    squares[i]=\"white\"\n    \nfor square in squares:\n    print(square)\n    square=\"white\"\n\nprint(squares)\n\nprint('---------------------------')\nfor i in range(0,len(squares)):\n    squares[i]=\"white\"   \n\nprint(squares)"
        },
        {
            "cell_type": "code",
            "execution_count": 47,
            "metadata": {},
            "outputs": [
                {
                    "name": "stdout",
                    "output_type": "stream",
                    "text": "['orange', 'orange', 'orange', 'blue', 'purple']\n[]\n-----------------------------\n['orange', 'orange', 'orange', 'blue', 'purple']\n['orange', 'orange', 'orange']\n"
                }
            ],
            "source": "squares = ['orange', 'orange', 'orange', 'blue','purple']\nnewsquares=[]\nprint(squares)\nprint(newsquares)\nprint('-----------------------------')\ni = 0\nwhile(squares[i]=='orange'):\n    newsquares.append(squares[i])\n    i=i+1\nprint(squares)\nprint(newsquares)"
        },
        {
            "cell_type": "code",
            "execution_count": 71,
            "metadata": {},
            "outputs": [],
            "source": "def addfunction(a):\n    n = a + 5\n    return n\n\ndef mulfunction(a,b):\n    n = a * b\n    return n\n\ndef printstuff(theList):\n    for l in theList:\n        print(l)\n        \ndef somefunction(s):\n    x = \"ABCD\"\n    print(x+s)\n\ndef somefunction2(n):\n    age = 7\n    print(\"Age and n :\",str(age), \" \", str(n))"
        },
        {
            "cell_type": "code",
            "execution_count": 57,
            "metadata": {},
            "outputs": [
                {
                    "name": "stdout",
                    "output_type": "stream",
                    "text": "17\n"
                }
            ],
            "source": "z = 12\nz2 = addfunction(z)\nprint(z2)"
        },
        {
            "cell_type": "code",
            "execution_count": 51,
            "metadata": {},
            "outputs": [
                {
                    "data": {
                        "text/plain": "204"
                    },
                    "execution_count": 51,
                    "metadata": {},
                    "output_type": "execute_result"
                }
            ],
            "source": "mulfunction(z,z2)"
        },
        {
            "cell_type": "code",
            "execution_count": 55,
            "metadata": {},
            "outputs": [
                {
                    "name": "stdout",
                    "output_type": "stream",
                    "text": "10\n[7, 7, 8, 8, 9, 9, 9, 9, 10, 10]\n[7, 8, 9, 10, 9, 8, 9, 7, 10, 9]\n"
                }
            ],
            "source": "ratings=[7,8,9,10,9,8,9,7,10,9]\nprint(len(ratings))\nprint(sorted(ratings))\nprint(ratings)"
        },
        {
            "cell_type": "code",
            "execution_count": 72,
            "metadata": {},
            "outputs": [
                {
                    "name": "stdout",
                    "output_type": "stream",
                    "text": "ABCDHello\nEFGH\nAge and n : 7   10\n"
                }
            ],
            "source": "#printstuff(ratings)\n#print('-----------------------')\n#printstuff(sorted(ratings))\nx = \"EFGH\"\nsomefunction(\"Hello\")\nprint(x)\nsomefunction2(10)"
        },
        {
            "cell_type": "code",
            "execution_count": 73,
            "metadata": {},
            "outputs": [
                {
                    "data": {
                        "text/plain": "list"
                    },
                    "execution_count": 73,
                    "metadata": {},
                    "output_type": "execute_result"
                }
            ],
            "source": "type(ratings)"
        },
        {
            "cell_type": "code",
            "execution_count": 74,
            "metadata": {},
            "outputs": [],
            "source": "ratings.sort()"
        },
        {
            "cell_type": "code",
            "execution_count": 75,
            "metadata": {},
            "outputs": [
                {
                    "name": "stdout",
                    "output_type": "stream",
                    "text": "[7, 7, 8, 8, 9, 9, 9, 9, 10, 10]\n"
                }
            ],
            "source": "print(ratings)"
        },
        {
            "cell_type": "code",
            "execution_count": 76,
            "metadata": {},
            "outputs": [
                {
                    "name": "stdout",
                    "output_type": "stream",
                    "text": "[10, 10, 9, 9, 9, 9, 8, 8, 7, 7]\n[10, 10, 9, 9, 9, 8, 8, 7, 7]\n"
                }
            ],
            "source": "ratings.reverse()\nprint(ratings)\nratings.pop(4)\nprint(ratings)"
        },
        {
            "cell_type": "code",
            "execution_count": 110,
            "metadata": {},
            "outputs": [],
            "source": "class Rectangle(object):\n    \n    def __init__ (self, color, height, width):\n        self.color = color\n        self.height = height\n        self.width = width\n    \n    def draw(self,x,y,z):\n        n = 10\n        print(\"Drawing rectangle\",n,x,y,z)\n    \n    def completedraw(self):\n        print('Drawing rectangle color=',self.color,' height=',self.height,' width=',self.width)\n        \n    #def somemethod(self):\n    #    print(age)"
        },
        {
            "cell_type": "code",
            "execution_count": 111,
            "metadata": {},
            "outputs": [
                {
                    "name": "stdout",
                    "output_type": "stream",
                    "text": "Drawing rectangle 10 6 4 5\nDrawing rectangle 10 4 5 8\nDrawing rectangle color= yellow  height= 5  width= 4.5\nDrawing rectangle color= blue  height= 2.4  width= 3.6\n"
                }
            ],
            "source": "rect1 = Rectangle(\"blue\",2.4,3.6)\ntype(rect1)\nrect1.draw(6,4,5)\n#print(rect1.color)\n#print(rect1.height)\n#print(rect1.width)\nrect2 = Rectangle(\"yellow\",5,4.5)\nrect2.draw(4,5,8)\nrect2.completedraw()\nrect1.completedraw()\nrect1.color=\"red\""
        },
        {
            "cell_type": "code",
            "execution_count": null,
            "metadata": {},
            "outputs": [],
            "source": ""
        }
    ],
    "metadata": {
        "kernelspec": {
            "display_name": "Python 3.6",
            "language": "python",
            "name": "python3"
        },
        "language_info": {
            "codemirror_mode": {
                "name": "ipython",
                "version": 3
            },
            "file_extension": ".py",
            "mimetype": "text/x-python",
            "name": "python",
            "nbconvert_exporter": "python",
            "pygments_lexer": "ipython3",
            "version": "3.6.9"
        }
    },
    "nbformat": 4,
    "nbformat_minor": 1
}