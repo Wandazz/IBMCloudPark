{
    "cells": [
        {
            "cell_type": "markdown",
            "metadata": {},
            "source": "#Simple Python Code"
        },
        {
            "cell_type": "code",
            "execution_count": 11,
            "metadata": {},
            "outputs": [],
            "source": "# The code was removed by Watson Studio for sharing."
        },
        {
            "cell_type": "code",
            "execution_count": 1,
            "metadata": {},
            "outputs": [],
            "source": "import pandas as pd\nimport numpy as np\n\nx = 5\ny = 7\nz = x + y"
        },
        {
            "cell_type": "code",
            "execution_count": 2,
            "metadata": {},
            "outputs": [
                {
                    "data": {
                        "text/html": "<div>\n<style scoped>\n    .dataframe tbody tr th:only-of-type {\n        vertical-align: middle;\n    }\n\n    .dataframe tbody tr th {\n        vertical-align: top;\n    }\n\n    .dataframe thead th {\n        text-align: right;\n    }\n</style>\n<table border=\"1\" class=\"dataframe\">\n  <thead>\n    <tr style=\"text-align: right;\">\n      <th></th>\n      <th>permalink</th>\n      <th>company</th>\n      <th>numEmps</th>\n      <th>category</th>\n      <th>city</th>\n      <th>state</th>\n      <th>fundedDate</th>\n      <th>raisedAmt</th>\n      <th>raisedCurrency</th>\n      <th>round</th>\n    </tr>\n  </thead>\n  <tbody>\n    <tr>\n      <th>0</th>\n      <td>lifelock</td>\n      <td>LifeLock</td>\n      <td>NaN</td>\n      <td>web</td>\n      <td>Tempe</td>\n      <td>AZ</td>\n      <td>1-May-07</td>\n      <td>6850000</td>\n      <td>USD</td>\n      <td>b</td>\n    </tr>\n    <tr>\n      <th>1</th>\n      <td>lifelock</td>\n      <td>LifeLock</td>\n      <td>NaN</td>\n      <td>web</td>\n      <td>Tempe</td>\n      <td>AZ</td>\n      <td>1-Oct-06</td>\n      <td>6000000</td>\n      <td>USD</td>\n      <td>a</td>\n    </tr>\n    <tr>\n      <th>2</th>\n      <td>lifelock</td>\n      <td>LifeLock</td>\n      <td>NaN</td>\n      <td>web</td>\n      <td>Tempe</td>\n      <td>AZ</td>\n      <td>1-Jan-08</td>\n      <td>25000000</td>\n      <td>USD</td>\n      <td>c</td>\n    </tr>\n    <tr>\n      <th>3</th>\n      <td>mycityfaces</td>\n      <td>MyCityFaces</td>\n      <td>7.0</td>\n      <td>web</td>\n      <td>Scottsdale</td>\n      <td>AZ</td>\n      <td>1-Jan-08</td>\n      <td>50000</td>\n      <td>USD</td>\n      <td>seed</td>\n    </tr>\n    <tr>\n      <th>4</th>\n      <td>flypaper</td>\n      <td>Flypaper</td>\n      <td>NaN</td>\n      <td>web</td>\n      <td>Phoenix</td>\n      <td>AZ</td>\n      <td>1-Feb-08</td>\n      <td>3000000</td>\n      <td>USD</td>\n      <td>a</td>\n    </tr>\n  </tbody>\n</table>\n</div>",
                        "text/plain": "     permalink      company  numEmps category        city state fundedDate  \\\n0     lifelock     LifeLock      NaN      web       Tempe    AZ   1-May-07   \n1     lifelock     LifeLock      NaN      web       Tempe    AZ   1-Oct-06   \n2     lifelock     LifeLock      NaN      web       Tempe    AZ   1-Jan-08   \n3  mycityfaces  MyCityFaces      7.0      web  Scottsdale    AZ   1-Jan-08   \n4     flypaper     Flypaper      NaN      web     Phoenix    AZ   1-Feb-08   \n\n   raisedAmt raisedCurrency round  \n0    6850000            USD     b  \n1    6000000            USD     a  \n2   25000000            USD     c  \n3      50000            USD  seed  \n4    3000000            USD     a  "
                    },
                    "execution_count": 2,
                    "metadata": {},
                    "output_type": "execute_result"
                }
            ],
            "source": "# The code was removed by Watson Studio for sharing."
        },
        {
            "cell_type": "code",
            "execution_count": 6,
            "metadata": {},
            "outputs": [
                {
                    "data": {
                        "text/plain": "array([['lifelock', 'LifeLock', nan, ..., 6850000, 'USD', 'b'],\n       ['lifelock', 'LifeLock', nan, ..., 6000000, 'USD', 'a'],\n       ['lifelock', 'LifeLock', nan, ..., 25000000, 'USD', 'c'],\n       ...,\n       ['myrio', 'Myrio', 75.0, ..., 20500000, 'USD', 'unattributed'],\n       ['grid-networks', 'Grid Networks', nan, ..., 9500000, 'USD', 'a'],\n       ['grid-networks', 'Grid Networks', nan, ..., 10500000, 'USD', 'b']],\n      dtype=object)"
                    },
                    "execution_count": 6,
                    "metadata": {},
                    "output_type": "execute_result"
                }
            ],
            "source": "dfarry  = df_data_1.values\ndfarry"
        },
        {
            "cell_type": "code",
            "execution_count": 7,
            "metadata": {},
            "outputs": [
                {
                    "name": "stderr",
                    "output_type": "stream",
                    "text": "Using TensorFlow backend.\n"
                }
            ],
            "source": "import sklearn\nimport tensorflow as tf\nimport keras"
        },
        {
            "cell_type": "code",
            "execution_count": 8,
            "metadata": {},
            "outputs": [
                {
                    "data": {
                        "text/html": "<div>\n<style scoped>\n    .dataframe tbody tr th:only-of-type {\n        vertical-align: middle;\n    }\n\n    .dataframe tbody tr th {\n        vertical-align: top;\n    }\n\n    .dataframe thead th {\n        text-align: right;\n    }\n</style>\n<table border=\"1\" class=\"dataframe\">\n  <thead>\n    <tr style=\"text-align: right;\">\n      <th></th>\n      <th>policyID</th>\n      <th>statecode</th>\n      <th>county</th>\n      <th>eq_site_limit</th>\n      <th>hu_site_limit</th>\n      <th>fl_site_limit</th>\n      <th>fr_site_limit</th>\n      <th>tiv_2011</th>\n      <th>tiv_2012</th>\n      <th>eq_site_deductible</th>\n      <th>hu_site_deductible</th>\n      <th>fl_site_deductible</th>\n      <th>fr_site_deductible</th>\n      <th>point_latitude</th>\n      <th>point_longitude</th>\n      <th>line</th>\n      <th>construction</th>\n      <th>point_granularity</th>\n    </tr>\n  </thead>\n  <tbody>\n    <tr>\n      <th>0</th>\n      <td>119736</td>\n      <td>FL</td>\n      <td>CLAY COUNTY</td>\n      <td>498960.0</td>\n      <td>498960.00</td>\n      <td>498960.0</td>\n      <td>498960.0</td>\n      <td>498960.00</td>\n      <td>792148.90</td>\n      <td>0.0</td>\n      <td>9979.2</td>\n      <td>0.0</td>\n      <td>0</td>\n      <td>30.102261</td>\n      <td>-81.711777</td>\n      <td>Residential</td>\n      <td>Masonry</td>\n      <td>1</td>\n    </tr>\n    <tr>\n      <th>1</th>\n      <td>448094</td>\n      <td>FL</td>\n      <td>CLAY COUNTY</td>\n      <td>1322376.3</td>\n      <td>1322376.30</td>\n      <td>1322376.3</td>\n      <td>1322376.3</td>\n      <td>1322376.30</td>\n      <td>1438163.57</td>\n      <td>0.0</td>\n      <td>0.0</td>\n      <td>0.0</td>\n      <td>0</td>\n      <td>30.063936</td>\n      <td>-81.707664</td>\n      <td>Residential</td>\n      <td>Masonry</td>\n      <td>3</td>\n    </tr>\n    <tr>\n      <th>2</th>\n      <td>206893</td>\n      <td>FL</td>\n      <td>CLAY COUNTY</td>\n      <td>190724.4</td>\n      <td>190724.40</td>\n      <td>190724.4</td>\n      <td>190724.4</td>\n      <td>190724.40</td>\n      <td>192476.78</td>\n      <td>0.0</td>\n      <td>0.0</td>\n      <td>0.0</td>\n      <td>0</td>\n      <td>30.089579</td>\n      <td>-81.700455</td>\n      <td>Residential</td>\n      <td>Wood</td>\n      <td>1</td>\n    </tr>\n    <tr>\n      <th>3</th>\n      <td>333743</td>\n      <td>FL</td>\n      <td>CLAY COUNTY</td>\n      <td>0.0</td>\n      <td>79520.76</td>\n      <td>0.0</td>\n      <td>0.0</td>\n      <td>79520.76</td>\n      <td>86854.48</td>\n      <td>0.0</td>\n      <td>0.0</td>\n      <td>0.0</td>\n      <td>0</td>\n      <td>30.063236</td>\n      <td>-81.707703</td>\n      <td>Residential</td>\n      <td>Wood</td>\n      <td>3</td>\n    </tr>\n    <tr>\n      <th>4</th>\n      <td>172534</td>\n      <td>FL</td>\n      <td>CLAY COUNTY</td>\n      <td>0.0</td>\n      <td>254281.50</td>\n      <td>0.0</td>\n      <td>254281.5</td>\n      <td>254281.50</td>\n      <td>246144.49</td>\n      <td>0.0</td>\n      <td>0.0</td>\n      <td>0.0</td>\n      <td>0</td>\n      <td>30.060614</td>\n      <td>-81.702675</td>\n      <td>Residential</td>\n      <td>Wood</td>\n      <td>1</td>\n    </tr>\n  </tbody>\n</table>\n</div>",
                        "text/plain": "   policyID statecode       county  eq_site_limit  hu_site_limit  \\\n0    119736        FL  CLAY COUNTY       498960.0      498960.00   \n1    448094        FL  CLAY COUNTY      1322376.3     1322376.30   \n2    206893        FL  CLAY COUNTY       190724.4      190724.40   \n3    333743        FL  CLAY COUNTY            0.0       79520.76   \n4    172534        FL  CLAY COUNTY            0.0      254281.50   \n\n   fl_site_limit  fr_site_limit    tiv_2011    tiv_2012  eq_site_deductible  \\\n0       498960.0       498960.0   498960.00   792148.90                 0.0   \n1      1322376.3      1322376.3  1322376.30  1438163.57                 0.0   \n2       190724.4       190724.4   190724.40   192476.78                 0.0   \n3            0.0            0.0    79520.76    86854.48                 0.0   \n4            0.0       254281.5   254281.50   246144.49                 0.0   \n\n   hu_site_deductible  fl_site_deductible  fr_site_deductible  point_latitude  \\\n0              9979.2                 0.0                   0       30.102261   \n1                 0.0                 0.0                   0       30.063936   \n2                 0.0                 0.0                   0       30.089579   \n3                 0.0                 0.0                   0       30.063236   \n4                 0.0                 0.0                   0       30.060614   \n\n   point_longitude         line construction  point_granularity  \n0       -81.711777  Residential      Masonry                  1  \n1       -81.707664  Residential      Masonry                  3  \n2       -81.700455  Residential         Wood                  1  \n3       -81.707703  Residential         Wood                  3  \n4       -81.702675  Residential         Wood                  1  "
                    },
                    "execution_count": 8,
                    "metadata": {},
                    "output_type": "execute_result"
                }
            ],
            "source": "\nbody = client_b86073ed50164e308796d842dc108d81.get_object(Bucket='introtoibmtools-donotdelete-pr-rntfgy3mrovtu3',Key='FL_insurance_sample.csv')['Body']\n# add missing __iter__ method, so pandas accepts body as file-like object\nif not hasattr(body, \"__iter__\"): body.__iter__ = types.MethodType( __iter__, body )\n\ndf_data_2 = pd.read_csv(body)\ndf_data_2.head()\n"
        },
        {
            "cell_type": "code",
            "execution_count": 13,
            "metadata": {},
            "outputs": [
                {
                    "data": {
                        "text/html": "<div>\n<style scoped>\n    .dataframe tbody tr th:only-of-type {\n        vertical-align: middle;\n    }\n\n    .dataframe tbody tr th {\n        vertical-align: top;\n    }\n\n    .dataframe thead th {\n        text-align: right;\n    }\n</style>\n<table border=\"1\" class=\"dataframe\">\n  <thead>\n    <tr style=\"text-align: right;\">\n      <th></th>\n      <th>no</th>\n      <th>nama</th>\n      <th>npm</th>\n    </tr>\n  </thead>\n  <tbody>\n    <tr>\n      <th>0</th>\n      <td>1</td>\n      <td>aaa</td>\n      <td>10</td>\n    </tr>\n    <tr>\n      <th>1</th>\n      <td>2</td>\n      <td>bbb</td>\n      <td>11</td>\n    </tr>\n  </tbody>\n</table>\n</div>",
                        "text/plain": "   no nama  npm\n0   1  aaa   10\n1   2  bbb   11"
                    },
                    "execution_count": 13,
                    "metadata": {},
                    "output_type": "execute_result"
                }
            ],
            "source": "df3 = pd.read_csv(project.get_file('test.csv'))\ndf3.head()"
        },
        {
            "cell_type": "code",
            "execution_count": 16,
            "metadata": {},
            "outputs": [],
            "source": "arr2 = df_data_2[['tiv_2011','tiv_2012']] "
        },
        {
            "cell_type": "code",
            "execution_count": 37,
            "metadata": {},
            "outputs": [],
            "source": "from sklearn.ensemble import RandomForestRegressor\nreg = RandomForestRegressor(n_estimators=10, max_depth=10)\nnarr2 = arr2.values\nnp.size(narr2, 0)\nnp.size(narr2,1)\nx = np.reshape(narr2[:,0], (np.size(narr2,0),1))\ny = narr2[:,1]\nreg.fit(x, y)\nres = reg.predict(x)\n#res = reg.predict(narr2(:,0))"
        },
        {
            "cell_type": "code",
            "execution_count": 39,
            "metadata": {},
            "outputs": [
                {
                    "data": {
                        "text/plain": "3817851307805.4824"
                    },
                    "execution_count": 39,
                    "metadata": {},
                    "output_type": "execute_result"
                }
            ],
            "source": "from sklearn.metrics import mean_squared_error\nmean_squared_error(y,res)"
        },
        {
            "cell_type": "code",
            "execution_count": 44,
            "metadata": {},
            "outputs": [
                {
                    "data": {
                        "text/plain": "<matplotlib.collections.PathCollection at 0x7faff20be8d0>"
                    },
                    "execution_count": 44,
                    "metadata": {},
                    "output_type": "execute_result"
                },
                {
                    "data": {
                        "image/png": "[encoded data removed]",
                        "text/plain": "<Figure size 432x288 with 1 Axes>"
                    },
                    "metadata": {
                        "needs_background": "light"
                    },
                    "output_type": "display_data"
                }
            ],
            "source": "import matplotlib.pyplot as plt \nplt.figure\nplt.scatter(x,y,color='red')\nplt.scatter(x,res, color='blue')"
        },
        {
            "cell_type": "code",
            "execution_count": null,
            "metadata": {},
            "outputs": [],
            "source": ""
        }
    ],
    "metadata": {
        "kernelspec": {
            "display_name": "Python 3.6",
            "language": "python",
            "name": "python3"
        },
        "language_info": {
            "codemirror_mode": {
                "name": "ipython",
                "version": 3
            },
            "file_extension": ".py",
            "mimetype": "text/x-python",
            "name": "python",
            "nbconvert_exporter": "python",
            "pygments_lexer": "ipython3",
            "version": "3.6.9"
        }
    },
    "nbformat": 4,
    "nbformat_minor": 1
}